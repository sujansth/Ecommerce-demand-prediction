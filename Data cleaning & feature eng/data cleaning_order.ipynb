{
 "cells": [
  {
   "cell_type": "code",
   "execution_count": 1,
   "id": "115d143a",
   "metadata": {},
   "outputs": [],
   "source": [
    "import pandas as pd"
   ]
  },
  {
   "cell_type": "code",
   "execution_count": 2,
   "id": "5ffab5f2",
   "metadata": {},
   "outputs": [
    {
     "data": {
      "text/html": [
       "<div>\n",
       "<style scoped>\n",
       "    .dataframe tbody tr th:only-of-type {\n",
       "        vertical-align: middle;\n",
       "    }\n",
       "\n",
       "    .dataframe tbody tr th {\n",
       "        vertical-align: top;\n",
       "    }\n",
       "\n",
       "    .dataframe thead th {\n",
       "        text-align: right;\n",
       "    }\n",
       "</style>\n",
       "<table border=\"1\" class=\"dataframe\">\n",
       "  <thead>\n",
       "    <tr style=\"text-align: right;\">\n",
       "      <th></th>\n",
       "      <th>order_id</th>\n",
       "      <th>date</th>\n",
       "      <th>payment</th>\n",
       "      <th>item_code</th>\n",
       "      <th>quantity</th>\n",
       "      <th>gift_quantity</th>\n",
       "      <th>unit_price_vat_excl</th>\n",
       "      <th>unit_cogs</th>\n",
       "      <th>unit_rrp_vat_excl</th>\n",
       "      <th>department</th>\n",
       "      <th>channel</th>\n",
       "      <th>owner</th>\n",
       "      <th>site</th>\n",
       "      <th>CreatedAt</th>\n",
       "    </tr>\n",
       "  </thead>\n",
       "  <tbody>\n",
       "    <tr>\n",
       "      <th>0</th>\n",
       "      <td>2000093387</td>\n",
       "      <td>2020-04-24 00:00:00</td>\n",
       "      <td>GOPAY_CARD</td>\n",
       "      <td>S101</td>\n",
       "      <td>1</td>\n",
       "      <td>NaN</td>\n",
       "      <td>3.506048</td>\n",
       "      <td>0.000000</td>\n",
       "      <td>3.496395</td>\n",
       "      <td>E-COMMER</td>\n",
       "      <td>RUN.huC</td>\n",
       "      <td>RUN.huO</td>\n",
       "      <td>top4running.hu</td>\n",
       "      <td>2020-04-24 21:50:00</td>\n",
       "    </tr>\n",
       "    <tr>\n",
       "      <th>1</th>\n",
       "      <td>2000093387</td>\n",
       "      <td>2020-04-24 00:00:00</td>\n",
       "      <td>GOPAY_CARD</td>\n",
       "      <td>S113</td>\n",
       "      <td>1</td>\n",
       "      <td>NaN</td>\n",
       "      <td>-0.705913</td>\n",
       "      <td>0.000000</td>\n",
       "      <td>-0.717209</td>\n",
       "      <td>E-COMMER</td>\n",
       "      <td>RUN.huC</td>\n",
       "      <td>RUN.huO</td>\n",
       "      <td>top4running.hu</td>\n",
       "      <td>2020-04-24 21:50:00</td>\n",
       "    </tr>\n",
       "    <tr>\n",
       "      <th>2</th>\n",
       "      <td>2000093388</td>\n",
       "      <td>2020-04-24 00:00:00</td>\n",
       "      <td>COD</td>\n",
       "      <td>ZB00089178</td>\n",
       "      <td>1</td>\n",
       "      <td>NaN</td>\n",
       "      <td>5.829845</td>\n",
       "      <td>2.209302</td>\n",
       "      <td>6.472868</td>\n",
       "      <td>E-COMMER</td>\n",
       "      <td>FTB.czC</td>\n",
       "      <td>FTB.czO</td>\n",
       "      <td>11teamsports.cz</td>\n",
       "      <td>2020-04-24 21:45:00</td>\n",
       "    </tr>\n",
       "    <tr>\n",
       "      <th>3</th>\n",
       "      <td>2000093388</td>\n",
       "      <td>2020-04-24 00:00:00</td>\n",
       "      <td>COD</td>\n",
       "      <td>ZB00138060</td>\n",
       "      <td>1</td>\n",
       "      <td>NaN</td>\n",
       "      <td>5.829845</td>\n",
       "      <td>2.209302</td>\n",
       "      <td>6.472868</td>\n",
       "      <td>E-COMMER</td>\n",
       "      <td>FTB.czC</td>\n",
       "      <td>FTB.czO</td>\n",
       "      <td>11teamsports.cz</td>\n",
       "      <td>2020-04-24 21:45:00</td>\n",
       "    </tr>\n",
       "    <tr>\n",
       "      <th>4</th>\n",
       "      <td>2000093388</td>\n",
       "      <td>2020-04-24 00:00:00</td>\n",
       "      <td>COD</td>\n",
       "      <td>ZB00015664</td>\n",
       "      <td>1</td>\n",
       "      <td>NaN</td>\n",
       "      <td>19.379845</td>\n",
       "      <td>18.731008</td>\n",
       "      <td>32.015504</td>\n",
       "      <td>E-COMMER</td>\n",
       "      <td>FTB.czC</td>\n",
       "      <td>FTB.czO</td>\n",
       "      <td>11teamsports.cz</td>\n",
       "      <td>2020-04-24 21:45:00</td>\n",
       "    </tr>\n",
       "  </tbody>\n",
       "</table>\n",
       "</div>"
      ],
      "text/plain": [
       "     order_id                 date     payment   item_code  quantity  \\\n",
       "0  2000093387  2020-04-24 00:00:00  GOPAY_CARD        S101         1   \n",
       "1  2000093387  2020-04-24 00:00:00  GOPAY_CARD        S113         1   \n",
       "2  2000093388  2020-04-24 00:00:00         COD  ZB00089178         1   \n",
       "3  2000093388  2020-04-24 00:00:00         COD  ZB00138060         1   \n",
       "4  2000093388  2020-04-24 00:00:00         COD  ZB00015664         1   \n",
       "\n",
       "   gift_quantity  unit_price_vat_excl  unit_cogs  unit_rrp_vat_excl  \\\n",
       "0            NaN             3.506048   0.000000           3.496395   \n",
       "1            NaN            -0.705913   0.000000          -0.717209   \n",
       "2            NaN             5.829845   2.209302           6.472868   \n",
       "3            NaN             5.829845   2.209302           6.472868   \n",
       "4            NaN            19.379845  18.731008          32.015504   \n",
       "\n",
       "  department  channel    owner             site            CreatedAt  \n",
       "0   E-COMMER  RUN.huC  RUN.huO   top4running.hu  2020-04-24 21:50:00  \n",
       "1   E-COMMER  RUN.huC  RUN.huO   top4running.hu  2020-04-24 21:50:00  \n",
       "2   E-COMMER  FTB.czC  FTB.czO  11teamsports.cz  2020-04-24 21:45:00  \n",
       "3   E-COMMER  FTB.czC  FTB.czO  11teamsports.cz  2020-04-24 21:45:00  \n",
       "4   E-COMMER  FTB.czC  FTB.czO  11teamsports.cz  2020-04-24 21:45:00  "
      ]
     },
     "execution_count": 2,
     "metadata": {},
     "output_type": "execute_result"
    }
   ],
   "source": [
    "order = pd.read_csv('data/orders.csv', sep=';', on_bad_lines='skip')\n",
    "order.head()"
   ]
  },
  {
   "cell_type": "code",
   "execution_count": 5,
   "id": "ff21a05d",
   "metadata": {},
   "outputs": [
    {
     "data": {
      "text/plain": [
       "(2128524, 14)"
      ]
     },
     "execution_count": 5,
     "metadata": {},
     "output_type": "execute_result"
    }
   ],
   "source": [
    "order.shape"
   ]
  },
  {
   "cell_type": "code",
   "execution_count": 29,
   "id": "5ba07174",
   "metadata": {},
   "outputs": [
    {
     "data": {
      "text/plain": [
       "order_id               0\n",
       "date                   0\n",
       "payment                0\n",
       "item_code              0\n",
       "quantity               0\n",
       "unit_price_vat_excl    0\n",
       "unit_cogs              0\n",
       "unit_rrp_vat_excl      0\n",
       "department             0\n",
       "channel                0\n",
       "owner                  0\n",
       "site                   0\n",
       "CreatedAt              0\n",
       "dtype: int64"
      ]
     },
     "execution_count": 29,
     "metadata": {},
     "output_type": "execute_result"
    }
   ],
   "source": [
    "order.isna().sum()"
   ]
  },
  {
   "cell_type": "code",
   "execution_count": 14,
   "id": "fdd447fd",
   "metadata": {},
   "outputs": [],
   "source": [
    "# Fill NA values of paymemt with most commmon value\n",
    "\n",
    "order['payment'] = order['payment'].fillna(order['payment'].mode().iloc[0])"
   ]
  },
  {
   "cell_type": "code",
   "execution_count": 17,
   "id": "6bb23514",
   "metadata": {},
   "outputs": [],
   "source": [
    "# Drop gift_quantity column as it has many NA values\n",
    "\n",
    "order = order.drop(columns='gift_quantity')"
   ]
  },
  {
   "cell_type": "code",
   "execution_count": 28,
   "id": "1f02c175",
   "metadata": {},
   "outputs": [],
   "source": [
    "# Fill \"unit_price_vat_excl\" NA value with 1.2709687956757783 which is the average multiplier between unit price & unit rrp\n",
    "\n",
    "order['unit_rrp_vat_excl'] = order['unit_rrp_vat_excl'].fillna(order['unit_price_vat_excl'] * 1.2709687956757783)"
   ]
  },
  {
   "cell_type": "code",
   "execution_count": 30,
   "id": "2c0a22a0",
   "metadata": {},
   "outputs": [],
   "source": [
    "order.to_csv('order_cleaned.csv', index=False)"
   ]
  }
 ],
 "metadata": {
  "kernelspec": {
   "display_name": "Lighthouse_Labs",
   "language": "python",
   "name": "lighthouse_labs"
  },
  "language_info": {
   "codemirror_mode": {
    "name": "ipython",
    "version": 3
   },
   "file_extension": ".py",
   "mimetype": "text/x-python",
   "name": "python",
   "nbconvert_exporter": "python",
   "pygments_lexer": "ipython3",
   "version": "3.8.12"
  }
 },
 "nbformat": 4,
 "nbformat_minor": 5
}
